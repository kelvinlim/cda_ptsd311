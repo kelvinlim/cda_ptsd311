{
 "cells": [
  {
   "cell_type": "markdown",
   "id": "94462cd2",
   "metadata": {},
   "source": [
    "# Code to organize data for cda\n"
   ]
  },
  {
   "cell_type": "code",
   "execution_count": 6,
   "id": "05eeb29a",
   "metadata": {},
   "outputs": [],
   "source": [
    "import pandas as pd\n",
    "\n",
    "# load in the imaging data\n",
    "imaging_data = pd.read_csv('Data/311_PTSD_ColeAnticevic_withinnetconn_avgacrossruns.csv')\n",
    "# load in the behavioral data from xlsx file\n",
    "behavioral_data = pd.read_excel('Data/20251017_KetamineRCT_ClinOutcomes+Cog_Pre+Post+Delta_DATA.xlsx')\n",
    "\n",
    "# read in the events data from json\n",
    "events_data = pd.read_json('Data/events.json')\n",
    "\n",
    "# read in the procedures data from json\n",
    "procedures_data = pd.read_json('Data/procedures.json')\n",
    "\n",
    "pass"
   ]
  },
  {
   "cell_type": "code",
   "execution_count": 3,
   "id": "c61d010d",
   "metadata": {},
   "outputs": [
    {
     "name": "stdout",
     "output_type": "stream",
     "text": [
      "Index(['subject', 'session', 'Auditory', 'Cingulo-Opercular', 'Default',\n",
      "       'Dorsal-Attention', 'Frontoparietal', 'Language', 'Orbito-Affective',\n",
      "       'Posterior-Multimodal', 'Somatomotor', 'Ventral-Multimodal', 'Visual1',\n",
      "       'Visual2'],\n",
      "      dtype='object')\n",
      "Index(['pt_id', 'GRID', 'Group_Tx', 'Group', 'MADRS_Pre', 'MADRS_Post',\n",
      "       'MADRS_PrePost_Delta', 'Pre_PSSI5_INT_Total', 'Pre_PSSI5_AVO_Total',\n",
      "       'Pre_PSSI5_COGMOOD_Total', 'Pre_PSSI5_ARO_Total', 'Pre_PSSI5_Total',\n",
      "       'Post_PSSI5_INT_Total', 'Post_PSSI5_AVO_Total',\n",
      "       'Post_PSSI5_COGMOOD_Total', 'Post_PSSI5_ARO_Total', 'Post_PSSI5_Total',\n",
      "       'PSSI5_INT_PrePost_Delta', 'PSSI5_AVO_PrePost_Delta',\n",
      "       'PSSI5_COGMOOD_PrePost_Delta', 'PSSI5_ARO_PrePost_Delta',\n",
      "       'PSSI5_Total_PrePost_Delta', 'PTSD_DxLoss', 'MDD_Responder',\n",
      "       'MDDPTSD_Responder', 'Pre_RRS_Total', 'Pre_RRS_Brood_BL', 'Pre_RRS_Dep',\n",
      "       'Pre_RRS_Refl', 'Post_RRS_Total', 'Post_RRS_Brood', 'Post_RRS_Dep',\n",
      "       'Post_RRS_Refl', 'RRS_Total_PrePost_Delta', 'RRS_Brood_PrePost_Delta',\n",
      "       'RRS_Dep_PrePost_Delta', 'RRS_Refl_PrePost_Delta', 'nih_dot_Pre',\n",
      "       'nih_nb1_Pre', 'nih_nb2_Pre', 'nih_flanker_Pre', 'nih_shift_Pre',\n",
      "       'nih_executive_composite_Pre', 'nih_exec_se_Pre',\n",
      "       'nih_cog_ctrl_factor_Pre', 'nih_cog_ctrl_Pre', 'nih_working_mem_Pre',\n",
      "       'nih_working_mem_se_Pre', 'nih_dot_Post', 'nih_nb1_Post',\n",
      "       'nih_nb2_Post', 'nih_flanker_Post', 'nih_shift_Post',\n",
      "       'nih_executive_composite_Post', 'nih_cog_ctrl_factor_Post',\n",
      "       'nih_working_mem_Post', 'NIH_Dot_PrePost_delta',\n",
      "       'NIH_NB1_PrePost_Delta', 'NIH_NB2_PrePost_Delta',\n",
      "       'NIH_Flanker_PrePost_Delta', 'NIH_SetShift_PrePost_Delta',\n",
      "       'NIH_ExecComp_PrePost_Delta', 'NIH_CogCntrl_PrePost_Delta',\n",
      "       'NIH_WorkMem_PrePost_Delta', 'BL_CAPS5_INT_Tot', 'BL_CAPS5_AVO_Tot',\n",
      "       'BL_CAPS5_COGMOOD_Tot', 'BL_CAPS5_AVO_Tot.1', 'BL_CAPS5_TotalSeverity',\n",
      "       'BL_PTSDPRESENT', 'FU1_CAPS5_INT_Tot', 'FU1_CAPS5_AVO_Tot',\n",
      "       'FU1_CAPS5_COGMOOD_Tot', 'FU1_CAPS5_AVO_Tot.1',\n",
      "       'FU1_CAPS5_TotalSeverity', 'FU1_PTSDPRESENT',\n",
      "       'CAPS5_INT_INT_BLtoFU1_delta', 'CAPS5_AVO_AVOID_BLtoFU1_delta',\n",
      "       'CAPS5_COGMOOD_COGMOOD_BLtoFU1_delta', 'CAPS5_AVO_AROUS_BLtoFU1_delta',\n",
      "       'CAPS5_Total_BLtoFU1_Delta'],\n",
      "      dtype='object')\n"
     ]
    }
   ],
   "source": [
    "# print out columns\n",
    "print(imaging_data.columns)\n",
    "print(behavioral_data.columns)"
   ]
  },
  {
   "cell_type": "code",
   "execution_count": 4,
   "id": "e2e2dc60",
   "metadata": {},
   "outputs": [
    {
     "name": "stdout",
     "output_type": "stream",
     "text": [
      "pt_id: 100.00% complete\n",
      "GRID: 100.00% complete\n",
      "Group_Tx: 100.00% complete\n",
      "Group: 100.00% complete\n",
      "MADRS_Pre: 100.00% complete\n",
      "MADRS_Post: 100.00% complete\n",
      "MADRS_PrePost_Delta: 100.00% complete\n",
      "Pre_PSSI5_INT_Total: 100.00% complete\n",
      "Pre_PSSI5_AVO_Total: 100.00% complete\n",
      "Pre_PSSI5_COGMOOD_Total: 100.00% complete\n",
      "Pre_PSSI5_ARO_Total: 100.00% complete\n",
      "Pre_PSSI5_Total: 100.00% complete\n",
      "Post_PSSI5_INT_Total: 100.00% complete\n",
      "Post_PSSI5_AVO_Total: 100.00% complete\n",
      "Post_PSSI5_COGMOOD_Total: 100.00% complete\n",
      "Post_PSSI5_ARO_Total: 100.00% complete\n",
      "Post_PSSI5_Total: 100.00% complete\n",
      "PSSI5_INT_PrePost_Delta: 100.00% complete\n",
      "PSSI5_AVO_PrePost_Delta: 100.00% complete\n",
      "PSSI5_COGMOOD_PrePost_Delta: 100.00% complete\n",
      "PSSI5_ARO_PrePost_Delta: 100.00% complete\n",
      "PSSI5_Total_PrePost_Delta: 100.00% complete\n",
      "PTSD_DxLoss: 100.00% complete\n",
      "MDD_Responder: 100.00% complete\n",
      "MDDPTSD_Responder: 100.00% complete\n",
      "Pre_RRS_Total: 100.00% complete\n",
      "Pre_RRS_Brood_BL: 100.00% complete\n",
      "Pre_RRS_Dep: 100.00% complete\n",
      "Pre_RRS_Refl: 100.00% complete\n",
      "Post_RRS_Total: 100.00% complete\n",
      "Post_RRS_Brood: 100.00% complete\n",
      "Post_RRS_Dep: 100.00% complete\n",
      "Post_RRS_Refl: 100.00% complete\n",
      "RRS_Total_PrePost_Delta: 100.00% complete\n",
      "RRS_Brood_PrePost_Delta: 100.00% complete\n",
      "RRS_Dep_PrePost_Delta: 100.00% complete\n",
      "RRS_Refl_PrePost_Delta: 100.00% complete\n",
      "nih_dot_Pre: 96.97% complete\n",
      "nih_nb1_Pre: 57.58% complete\n",
      "nih_nb2_Pre: 54.55% complete\n",
      "nih_flanker_Pre: 96.97% complete\n",
      "nih_shift_Pre: 96.97% complete\n",
      "nih_executive_composite_Pre: 100.00% complete\n",
      "nih_exec_se_Pre: 100.00% complete\n",
      "nih_cog_ctrl_factor_Pre: 100.00% complete\n",
      "nih_cog_ctrl_Pre: 100.00% complete\n",
      "nih_working_mem_Pre: 84.85% complete\n",
      "nih_working_mem_se_Pre: 84.85% complete\n",
      "nih_dot_Post: 90.91% complete\n",
      "nih_nb1_Post: 63.64% complete\n",
      "nih_nb2_Post: 60.61% complete\n",
      "nih_flanker_Post: 87.88% complete\n",
      "nih_shift_Post: 90.91% complete\n",
      "nih_executive_composite_Post: 93.94% complete\n",
      "nih_cog_ctrl_factor_Post: 93.94% complete\n",
      "nih_working_mem_Post: 90.91% complete\n",
      "NIH_Dot_PrePost_delta: 87.88% complete\n",
      "NIH_NB1_PrePost_Delta: 51.52% complete\n",
      "NIH_NB2_PrePost_Delta: 48.48% complete\n",
      "NIH_Flanker_PrePost_Delta: 87.88% complete\n",
      "NIH_SetShift_PrePost_Delta: 90.91% complete\n",
      "NIH_ExecComp_PrePost_Delta: 93.94% complete\n",
      "NIH_CogCntrl_PrePost_Delta: 93.94% complete\n",
      "NIH_WorkMem_PrePost_Delta: 75.76% complete\n",
      "BL_CAPS5_INT_Tot: 100.00% complete\n",
      "BL_CAPS5_AVO_Tot: 100.00% complete\n",
      "BL_CAPS5_COGMOOD_Tot: 100.00% complete\n",
      "BL_CAPS5_AVO_Tot.1: 100.00% complete\n",
      "BL_CAPS5_TotalSeverity: 100.00% complete\n",
      "BL_PTSDPRESENT: 100.00% complete\n",
      "FU1_CAPS5_INT_Tot: 93.94% complete\n",
      "FU1_CAPS5_AVO_Tot: 93.94% complete\n",
      "FU1_CAPS5_COGMOOD_Tot: 93.94% complete\n",
      "FU1_CAPS5_AVO_Tot.1: 93.94% complete\n",
      "FU1_CAPS5_TotalSeverity: 93.94% complete\n",
      "FU1_PTSDPRESENT: 93.94% complete\n",
      "CAPS5_INT_INT_BLtoFU1_delta: 93.94% complete\n",
      "CAPS5_AVO_AVOID_BLtoFU1_delta: 93.94% complete\n",
      "CAPS5_COGMOOD_COGMOOD_BLtoFU1_delta: 93.94% complete\n",
      "CAPS5_AVO_AROUS_BLtoFU1_delta: 93.94% complete\n",
      "CAPS5_Total_BLtoFU1_Delta: 93.94% complete\n"
     ]
    }
   ],
   "source": [
    "# for behavioral data for each column print the column name and the \n",
    "# percentage of completed data in that column\n",
    "for col in behavioral_data.columns:\n",
    "    percent_complete = behavioral_data[col].notnull().mean() * 100\n",
    "    print(f\"{col}: {percent_complete:.2f}% complete\")"
   ]
  },
  {
   "cell_type": "code",
   "execution_count": null,
   "id": "069c5e49",
   "metadata": {},
   "outputs": [],
   "source": [
    "# let's look at the fmri data, creating a summary dataframe\n",
    "# where the first column is the subject\n",
    "# the second column is whether the baseline fMRI is\n",
    "# present (1) or missing (0) and the third column is\n",
    "# whether the post-treatment fMRI is present (1) or missing (0)\n",
    "# use the imaging_data, events_data, and procedures_data dataframes\n"
   ]
  }
 ],
 "metadata": {
  "kernelspec": {
   "display_name": "venv",
   "language": "python",
   "name": "python3"
  },
  "language_info": {
   "codemirror_mode": {
    "name": "ipython",
    "version": 3
   },
   "file_extension": ".py",
   "mimetype": "text/x-python",
   "name": "python",
   "nbconvert_exporter": "python",
   "pygments_lexer": "ipython3",
   "version": "3.13.5"
  }
 },
 "nbformat": 4,
 "nbformat_minor": 5
}
